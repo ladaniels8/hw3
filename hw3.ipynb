{
 "cells": [
  {
   "cell_type": "markdown",
   "metadata": {},
   "source": [
    "# homework due oct 30"
   ]
  },
  {
   "cell_type": "code",
   "execution_count": null,
   "metadata": {},
   "outputs": [],
   "source": [
    "%matplotlib inline\n",
    "import numpy as np \n",
    "import matplotlib.pyplot as plt"
   ]
  },
  {
   "cell_type": "markdown",
   "metadata": {},
   "source": [
    "### define a unction for which we'd like to find the roots"
   ]
  },
  {
   "cell_type": "code",
   "execution_count": null,
   "metadata": {},
   "outputs": [],
   "source": [
    "def function_for_roots(x):\n",
    "    a = 1.01 \n",
    "    b = -3.04\n",
    "    c = 2.07\n",
    "    return a*x**2 + b*x +c #get the roots of the function "
   ]
  },
  {
   "cell_type": "code",
   "execution_count": null,
   "metadata": {},
   "outputs": [],
   "source": [
    "def check_initial_values(f, x_min, x_max, tol):\n",
    "    \n",
    "    #check our initial guesses \n",
    "    y_min = f(x_min)\n",
    "    y_max = f(x_max)\n",
    "    \n",
    "    #check that x_min and x_max contain a zero crossing \n",
    "    if(y_min*y_max>=0.0):\n",
    "        print(\"No zero crossing found in the range = \",x_min,x_max)\n",
    "        s = \"f(%f) = %f, f(%f) = %f\" % (x_min,y_min,x_max,y_max)\n",
    "        print(s)\n",
    "        return 0 \n",
    "    \n",
    "    #if x_min is a root then return flag == 1 \n",
    "    if(np.fabs(y_min)<tol):\n",
    "        return 1 \n",
    "    \n",
    "    #if x_mx is a root, then return flag == 2\n",
    "    if(np.fabs(y_max)<tol):\n",
    "        return 2 \n",
    "    \n",
    "    #if we reach this point the bracket is valid and we will return 3 \n",
    "    return 3 \n",
    "def bisection_root_finding(f, x_min_start, x_max_start, tol):\n",
    "    \n",
    "    #this funtion uses bisection search to find a root\n",
    "    \n",
    "    x_min = x_min_start\n",
    "    x_max = x_max_start\n",
    "    x_mid = 0.0\n",
    "    \n",
    "    y_min = f(x_min)\n",
    "    y_max = f(x_max)\n",
    "    y_mid = 0.0\n",
    "    \n",
    "    imax = 10000\n",
    "    i = 0 \n",
    "    \n",
    "    #check the initial values \n",
    "    flag = check_initial_values(f,x_min,x_max,tol)\n",
    "    if(flag==0):\n",
    "        print(\"Error in bisection_root_finding().\")\n",
    "        raise ValueError('Initial valuse invalid',x_min,x_max)\n",
    "    elif(flag==1):\n",
    "        return x_min\n",
    "    elif(flag==2):\n",
    "        return x_max\n",
    "    \n",
    "    #if we reach here then we need to conduct the search\n",
    "    \n",
    "    #set a flag\n",
    "    \n",
    "    not_found_root = True \n",
    "    #enter a while loop \n",
    "    while(not_found_root):\n",
    "        x_mid = 0.5*(x_min+x_max)\n",
    "        y_mid = f(x_mid)\n",
    "        \n",
    "        #check if x_mid is a root\n",
    "        if(np.fabs(y_mid)<tol):\n",
    "            not_found_root = False \n",
    "        \n",
    "        else:\n",
    "            if(f(x_min)*f(x_mid)>0):\n",
    "                x_min = x_mid\n",
    "                \n",
    "            else: \n",
    "                x_max = x_mid\n",
    "            \n",
    "        print(x_min,f(x_min),x_max,f(x_max))\n",
    "    \n",
    "    #count the iteration \n",
    "        i += 1\n",
    "    \n",
    "        if(i>=imax):\n",
    "            print(\"Exceeded max number of iterations = \",i)\n",
    "            s = \"Min brackert f(%f) = %f\" % (x_min,f(x_min))\n",
    "            print(s)\n",
    "            s = \"Max bracket f(%f) = %f\" % (x_max,f(x_max))\n",
    "            print(s)\n",
    "            s = \"Mid bracket f(%f) = %f\" % (x_mid,f(x_mid))\n",
    "            print(s)\n",
    "            raise StopIteration('Stopping iterations after ',i)\n",
    "    #we are done\n",
    "    return x_mid"
   ]
  },
  {
   "cell_type": "code",
   "execution_count": null,
   "metadata": {},
   "outputs": [],
   "source": [
    "x_min = 0.0\n",
    "x_max = 1.5 \n",
    "tolerance = 1.0e-6\n",
    "\n",
    "#pritn initial \n",
    "print(x_min,function_for_roots(x_min))\n",
    "print(x_max,function_for_roots(x_max))\n",
    "\n",
    "x_root = bisection_root_finding(function_for_roots,x_min,x_max,tolerance)\n",
    "y_root = function_for_roots(x_root)\n",
    "\n",
    "s = \"Root fond with y(%f) - %f\" % (x_root,y_root)\n",
    "print(s)"
   ]
  },
  {
   "cell_type": "markdown",
   "metadata": {},
   "source": [
    "## now time to graph"
   ]
  },
  {
   "cell_type": "code",
   "execution_count": null,
   "metadata": {},
   "outputs": [],
   "source": [
    "x = np.arange(0,4)\n",
    "\n",
    "a = 1.01 \n",
    "b = -3.04\n",
    "c = 2.07\n",
    "y = a*x**2 + b*x +c #get the roots of the function \n",
    "\n",
    "z = 0\n",
    "\n",
    "plt.plot(x,y)\n",
    "plt.xlabel('x')\n",
    "\n",
    "plt.show()"
   ]
  },
  {
   "cell_type": "markdown",
   "metadata": {},
   "source": [
    "## we at least i tried"
   ]
  },
  {
   "cell_type": "code",
   "execution_count": null,
   "metadata": {},
   "outputs": [],
   "source": []
  }
 ],
 "metadata": {
  "kernelspec": {
   "display_name": "Python 3",
   "language": "python",
   "name": "python3"
  },
  "language_info": {
   "codemirror_mode": {
    "name": "ipython",
    "version": 3
   },
   "file_extension": ".py",
   "mimetype": "text/x-python",
   "name": "python",
   "nbconvert_exporter": "python",
   "pygments_lexer": "ipython3",
   "version": "3.6.5"
  }
 },
 "nbformat": 4,
 "nbformat_minor": 2
}
